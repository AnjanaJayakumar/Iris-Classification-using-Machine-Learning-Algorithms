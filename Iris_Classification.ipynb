{
  "nbformat": 4,
  "nbformat_minor": 0,
  "metadata": {
    "colab": {
      "name": "Iris Classification.ipynb",
      "provenance": [],
      "collapsed_sections": [],
      "authorship_tag": "ABX9TyNEdjGW5/nqPAPTdgZJ2PI1",
      "include_colab_link": true
    },
    "kernelspec": {
      "name": "python3",
      "display_name": "Python 3"
    },
    "language_info": {
      "name": "python"
    }
  },
  "cells": [
    {
      "cell_type": "markdown",
      "metadata": {
        "id": "view-in-github",
        "colab_type": "text"
      },
      "source": [
        "<a href=\"https://colab.research.google.com/github/AnjanaJayakumar/Iris-Classification-using-Machine-Learning-Algorithms/blob/main/Iris_Classification.ipynb\" target=\"_parent\"><img src=\"https://colab.research.google.com/assets/colab-badge.svg\" alt=\"Open In Colab\"/></a>"
      ]
    },
    {
      "cell_type": "markdown",
      "metadata": {
        "id": "BAVFw7xf0B3Z"
      },
      "source": [
        "---\n",
        "# Iris Flower Dataset\n",
        "\n",
        "The Iris flower data set is a multivariate data set introduced by the British statistician and biologist Ronald Fisher in his 1936 paper The use of multiple measurements in taxonomic problems. It is sometimes called Anderson's Iris data set because Edgar Anderson collected the data to quantify the morphologic variation of Iris flowers of three related species. The data set consists of 50 samples from each of three species of Iris (Iris Setosa, Iris virginica, and Iris versicolor). Four features were measured from each sample: the length and the width of the sepals and petals, in centimeters.\n",
        "\n",
        "This dataset became a typical test case for many statistical classification techniques in machine learning such as Support Vector Machines\n",
        "\n",
        "\n",
        "---\n",
        "\n"
      ]
    },
    {
      "cell_type": "markdown",
      "metadata": {
        "id": "RhY0T_2fy9eb"
      },
      "source": [
        "## Get Data Directly From Kaggle\n",
        "\n",
        "The following steps help in downloading the dataset from Kaggle directly into Google Drive. This eliminates the usual process of downloading the dataset from Kaggle to the local device and then uploading it into Google Drive. \n",
        "\n",
        "**NOTE:** You should have a Kaggle account to proceed with this.\n",
        "\n",
        "<br>\n",
        "\n",
        "### Getting Your Kaggle API Token\n",
        "- Go to your Kaggle account and click on *Create New API Token*.\n",
        "- A file named kaggle.json will get downloaded containing your username and token key\n",
        "\n",
        "If you are using Google Colab, create a new folder called kaggle in the Google Drive directory where you want to download the dataset and upload the `kaggle.json` file here. If you are using your local device, follow the instructions given under **Installations** in [Official Kaggle API Github Page](https://github.com/Kaggle/kaggle-api)"
      ]
    },
    {
      "cell_type": "code",
      "metadata": {
        "colab": {
          "base_uri": "https://localhost:8080/"
        },
        "id": "UhXoOz2Qg_Wd",
        "outputId": "cf6f9961-3b2c-48ae-ff9e-bca28245e7db"
      },
      "source": [
        "# Mount google drive\n",
        "from google.colab import drive\n",
        "drive.mount('/content/drive')"
      ],
      "execution_count": 1,
      "outputs": [
        {
          "output_type": "stream",
          "text": [
            "Mounted at /content/drive\n"
          ],
          "name": "stdout"
        }
      ]
    },
    {
      "cell_type": "code",
      "metadata": {
        "id": "cpMREQiIhBdn"
      },
      "source": [
        "# Import OS for navigation and environment set up\n",
        "import os\n",
        "\n",
        "# set the current working directory\n",
        "drive_path = '/content/drive/MyDrive/Machine Learning/ML Practice'\n",
        "os.chdir(drive_path)\n",
        "\n",
        "# provide the config path to kaggle.json\n",
        "os.environ['KAGGLE_CONFIG_DIR'] = '/content/drive/MyDrive/Machine Learning/ML Practice/kaggle'"
      ],
      "execution_count": 2,
      "outputs": []
    },
    {
      "cell_type": "code",
      "metadata": {
        "id": "CuyOaRlypeT5"
      },
      "source": [
        "# import the custom kaggle_utils module for downloading and extracting the dataset from Kaggle\n",
        "# note: this custom module uses the python package subprocess for running the Kaggle command. \n",
        "# ensure that this package is installed in your system\n",
        "import kaggle_utils"
      ],
      "execution_count": 8,
      "outputs": []
    },
    {
      "cell_type": "code",
      "metadata": {
        "colab": {
          "base_uri": "https://localhost:8080/"
        },
        "id": "R5pE2mpuprJd",
        "outputId": "55efb8b8-29d8-43de-8b29-0f07665d5366"
      },
      "source": [
        "# define the paths\n",
        "zip_path = '/content/drive/MyDrive/Machine Learning/ML Practice/kaggle'         # path where the zip file is to be downloaded from Kaggle\n",
        "data_path = '/content/drive/MyDrive/Machine Learning/ML Practice/Dataset'       # path to extract content of the downloaded zip file\n",
        "\n",
        "# get API for the dataset\n",
        "data_api = 'kaggle datasets download -d uciml/iris'\n",
        "\n",
        "# call the function to fetch the Kaggle dataset and extract the contents of the zip file\n",
        "kaggle_utils.download_and_unzip(drive_path=zip_path, \n",
        "                                extract_path=data_path, \n",
        "                                kaggle_api=data_api, \n",
        "                                folder_name='Iris')"
      ],
      "execution_count": 4,
      "outputs": [
        {
          "output_type": "stream",
          "text": [
            "[INFO]: The file \" iris.zip \" already exists in the given folder.\n",
            "Would you like to force download the file again?\n",
            "[NOTE]: Force download will replace the existing zipfile in your folder. \n",
            "(Y / N) : y\n",
            "Downloaded the dataset from Kaggle and replaced the file in the destination...\n",
            "\n",
            "[NOTE]: The file(s) to be extracted already exists in the destination folder\n",
            "Would you like to replace them? \n",
            "(Y / N): y\n",
            "Extracted successfully.\n",
            "ALL DONE!\n"
          ],
          "name": "stdout"
        }
      ]
    },
    {
      "cell_type": "markdown",
      "metadata": {
        "id": "_MnsKNZ9y7sk"
      },
      "source": [
        "## Get The Dataset"
      ]
    },
    {
      "cell_type": "code",
      "metadata": {
        "id": "HiNeLED8s2wg"
      },
      "source": [
        "# import the initial necessary libraries\n",
        "import pandas as pd\n",
        "import numpy as np\n",
        "import matplotlib.pyplot as plt\n",
        "import seaborn as sns"
      ],
      "execution_count": 9,
      "outputs": []
    },
    {
      "cell_type": "code",
      "metadata": {
        "colab": {
          "base_uri": "https://localhost:8080/",
          "height": 201
        },
        "id": "PHxDBMXFtA9G",
        "outputId": "3f5c355e-e904-41f3-d703-6ef1b9fe7118"
      },
      "source": [
        "# get the Iris.csv file as a pandas dataframe\n",
        "iris_dataset = pd.read_csv('/content/drive/MyDrive/Machine Learning/ML Practice/Dataset/Iris/Iris.csv')\n",
        "iris_dataset.head()"
      ],
      "execution_count": 10,
      "outputs": [
        {
          "output_type": "execute_result",
          "data": {
            "text/html": [
              "<div>\n",
              "<style scoped>\n",
              "    .dataframe tbody tr th:only-of-type {\n",
              "        vertical-align: middle;\n",
              "    }\n",
              "\n",
              "    .dataframe tbody tr th {\n",
              "        vertical-align: top;\n",
              "    }\n",
              "\n",
              "    .dataframe thead th {\n",
              "        text-align: right;\n",
              "    }\n",
              "</style>\n",
              "<table border=\"1\" class=\"dataframe\">\n",
              "  <thead>\n",
              "    <tr style=\"text-align: right;\">\n",
              "      <th></th>\n",
              "      <th>Id</th>\n",
              "      <th>SepalLengthCm</th>\n",
              "      <th>SepalWidthCm</th>\n",
              "      <th>PetalLengthCm</th>\n",
              "      <th>PetalWidthCm</th>\n",
              "      <th>Species</th>\n",
              "    </tr>\n",
              "  </thead>\n",
              "  <tbody>\n",
              "    <tr>\n",
              "      <th>0</th>\n",
              "      <td>1</td>\n",
              "      <td>5.1</td>\n",
              "      <td>3.5</td>\n",
              "      <td>1.4</td>\n",
              "      <td>0.2</td>\n",
              "      <td>Iris-setosa</td>\n",
              "    </tr>\n",
              "    <tr>\n",
              "      <th>1</th>\n",
              "      <td>2</td>\n",
              "      <td>4.9</td>\n",
              "      <td>3.0</td>\n",
              "      <td>1.4</td>\n",
              "      <td>0.2</td>\n",
              "      <td>Iris-setosa</td>\n",
              "    </tr>\n",
              "    <tr>\n",
              "      <th>2</th>\n",
              "      <td>3</td>\n",
              "      <td>4.7</td>\n",
              "      <td>3.2</td>\n",
              "      <td>1.3</td>\n",
              "      <td>0.2</td>\n",
              "      <td>Iris-setosa</td>\n",
              "    </tr>\n",
              "    <tr>\n",
              "      <th>3</th>\n",
              "      <td>4</td>\n",
              "      <td>4.6</td>\n",
              "      <td>3.1</td>\n",
              "      <td>1.5</td>\n",
              "      <td>0.2</td>\n",
              "      <td>Iris-setosa</td>\n",
              "    </tr>\n",
              "    <tr>\n",
              "      <th>4</th>\n",
              "      <td>5</td>\n",
              "      <td>5.0</td>\n",
              "      <td>3.6</td>\n",
              "      <td>1.4</td>\n",
              "      <td>0.2</td>\n",
              "      <td>Iris-setosa</td>\n",
              "    </tr>\n",
              "  </tbody>\n",
              "</table>\n",
              "</div>"
            ],
            "text/plain": [
              "   Id  SepalLengthCm  SepalWidthCm  PetalLengthCm  PetalWidthCm      Species\n",
              "0   1            5.1           3.5            1.4           0.2  Iris-setosa\n",
              "1   2            4.9           3.0            1.4           0.2  Iris-setosa\n",
              "2   3            4.7           3.2            1.3           0.2  Iris-setosa\n",
              "3   4            4.6           3.1            1.5           0.2  Iris-setosa\n",
              "4   5            5.0           3.6            1.4           0.2  Iris-setosa"
            ]
          },
          "metadata": {
            "tags": []
          },
          "execution_count": 10
        }
      ]
    },
    {
      "cell_type": "markdown",
      "metadata": {
        "id": "aTtpZzvPx1Uy"
      },
      "source": [
        "## Some Exploratory Data Analysis\n",
        "\n",
        "Before working with the dataset, it is important that we explore and understand the dataset."
      ]
    },
    {
      "cell_type": "code",
      "metadata": {
        "colab": {
          "base_uri": "https://localhost:8080/"
        },
        "id": "5XqbO6M3tJxb",
        "outputId": "2a092843-8d80-4182-922c-c36c33af356c"
      },
      "source": [
        "# get some basic information\n",
        "iris_dataset.info()"
      ],
      "execution_count": 11,
      "outputs": [
        {
          "output_type": "stream",
          "text": [
            "<class 'pandas.core.frame.DataFrame'>\n",
            "RangeIndex: 150 entries, 0 to 149\n",
            "Data columns (total 6 columns):\n",
            " #   Column         Non-Null Count  Dtype  \n",
            "---  ------         --------------  -----  \n",
            " 0   Id             150 non-null    int64  \n",
            " 1   SepalLengthCm  150 non-null    float64\n",
            " 2   SepalWidthCm   150 non-null    float64\n",
            " 3   PetalLengthCm  150 non-null    float64\n",
            " 4   PetalWidthCm   150 non-null    float64\n",
            " 5   Species        150 non-null    object \n",
            "dtypes: float64(4), int64(1), object(1)\n",
            "memory usage: 7.2+ KB\n"
          ],
          "name": "stdout"
        }
      ]
    },
    {
      "cell_type": "markdown",
      "metadata": {
        "id": "FdS3xmjy37c7"
      },
      "source": [
        "**_Observations_:**\n",
        "- No missing values in the dataset\n",
        "- Size of the dataset is 150\n",
        "- Except for Id and Species, the rest are numerical values"
      ]
    },
    {
      "cell_type": "code",
      "metadata": {
        "colab": {
          "base_uri": "https://localhost:8080/"
        },
        "id": "Ba1U3Vu_w7qY",
        "outputId": "62e3f038-f217-4de9-abfa-c8ad0f9b2a52"
      },
      "source": [
        "# check out the different species available in the dataset\n",
        "iris_dataset['Species'].value_counts()"
      ],
      "execution_count": 14,
      "outputs": [
        {
          "output_type": "execute_result",
          "data": {
            "text/plain": [
              "Iris-virginica     50\n",
              "Iris-versicolor    50\n",
              "Iris-setosa        50\n",
              "Name: Species, dtype: int64"
            ]
          },
          "metadata": {
            "tags": []
          },
          "execution_count": 14
        }
      ]
    },
    {
      "cell_type": "markdown",
      "metadata": {
        "id": "ZHqvxylI4ikB"
      },
      "source": [
        "**_Observations:_**\n",
        "- 3 different species of iris are considered here - _Iris-virginica, Iris-versicolor and Iris-setosa_\n",
        "- This is a balanced dataset"
      ]
    },
    {
      "cell_type": "code",
      "metadata": {
        "colab": {
          "base_uri": "https://localhost:8080/",
          "height": 293
        },
        "id": "qmYYd2bPxEiJ",
        "outputId": "08981dc6-7aae-463e-cbc9-1dfad05e569a"
      },
      "source": [
        "# get statistical summary of the numerical features\n",
        "iris_dataset.describe()"
      ],
      "execution_count": 15,
      "outputs": [
        {
          "output_type": "execute_result",
          "data": {
            "text/html": [
              "<div>\n",
              "<style scoped>\n",
              "    .dataframe tbody tr th:only-of-type {\n",
              "        vertical-align: middle;\n",
              "    }\n",
              "\n",
              "    .dataframe tbody tr th {\n",
              "        vertical-align: top;\n",
              "    }\n",
              "\n",
              "    .dataframe thead th {\n",
              "        text-align: right;\n",
              "    }\n",
              "</style>\n",
              "<table border=\"1\" class=\"dataframe\">\n",
              "  <thead>\n",
              "    <tr style=\"text-align: right;\">\n",
              "      <th></th>\n",
              "      <th>Id</th>\n",
              "      <th>SepalLengthCm</th>\n",
              "      <th>SepalWidthCm</th>\n",
              "      <th>PetalLengthCm</th>\n",
              "      <th>PetalWidthCm</th>\n",
              "    </tr>\n",
              "  </thead>\n",
              "  <tbody>\n",
              "    <tr>\n",
              "      <th>count</th>\n",
              "      <td>150.000000</td>\n",
              "      <td>150.000000</td>\n",
              "      <td>150.000000</td>\n",
              "      <td>150.000000</td>\n",
              "      <td>150.000000</td>\n",
              "    </tr>\n",
              "    <tr>\n",
              "      <th>mean</th>\n",
              "      <td>75.500000</td>\n",
              "      <td>5.843333</td>\n",
              "      <td>3.054000</td>\n",
              "      <td>3.758667</td>\n",
              "      <td>1.198667</td>\n",
              "    </tr>\n",
              "    <tr>\n",
              "      <th>std</th>\n",
              "      <td>43.445368</td>\n",
              "      <td>0.828066</td>\n",
              "      <td>0.433594</td>\n",
              "      <td>1.764420</td>\n",
              "      <td>0.763161</td>\n",
              "    </tr>\n",
              "    <tr>\n",
              "      <th>min</th>\n",
              "      <td>1.000000</td>\n",
              "      <td>4.300000</td>\n",
              "      <td>2.000000</td>\n",
              "      <td>1.000000</td>\n",
              "      <td>0.100000</td>\n",
              "    </tr>\n",
              "    <tr>\n",
              "      <th>25%</th>\n",
              "      <td>38.250000</td>\n",
              "      <td>5.100000</td>\n",
              "      <td>2.800000</td>\n",
              "      <td>1.600000</td>\n",
              "      <td>0.300000</td>\n",
              "    </tr>\n",
              "    <tr>\n",
              "      <th>50%</th>\n",
              "      <td>75.500000</td>\n",
              "      <td>5.800000</td>\n",
              "      <td>3.000000</td>\n",
              "      <td>4.350000</td>\n",
              "      <td>1.300000</td>\n",
              "    </tr>\n",
              "    <tr>\n",
              "      <th>75%</th>\n",
              "      <td>112.750000</td>\n",
              "      <td>6.400000</td>\n",
              "      <td>3.300000</td>\n",
              "      <td>5.100000</td>\n",
              "      <td>1.800000</td>\n",
              "    </tr>\n",
              "    <tr>\n",
              "      <th>max</th>\n",
              "      <td>150.000000</td>\n",
              "      <td>7.900000</td>\n",
              "      <td>4.400000</td>\n",
              "      <td>6.900000</td>\n",
              "      <td>2.500000</td>\n",
              "    </tr>\n",
              "  </tbody>\n",
              "</table>\n",
              "</div>"
            ],
            "text/plain": [
              "               Id  SepalLengthCm  SepalWidthCm  PetalLengthCm  PetalWidthCm\n",
              "count  150.000000     150.000000    150.000000     150.000000    150.000000\n",
              "mean    75.500000       5.843333      3.054000       3.758667      1.198667\n",
              "std     43.445368       0.828066      0.433594       1.764420      0.763161\n",
              "min      1.000000       4.300000      2.000000       1.000000      0.100000\n",
              "25%     38.250000       5.100000      2.800000       1.600000      0.300000\n",
              "50%     75.500000       5.800000      3.000000       4.350000      1.300000\n",
              "75%    112.750000       6.400000      3.300000       5.100000      1.800000\n",
              "max    150.000000       7.900000      4.400000       6.900000      2.500000"
            ]
          },
          "metadata": {
            "tags": []
          },
          "execution_count": 15
        }
      ]
    },
    {
      "cell_type": "markdown",
      "metadata": {
        "id": "kynCzfbG5sgr"
      },
      "source": [
        "**_NOTE_**:\n",
        "\n",
        "This allows us to get a quick overview of the data. We can check for outliers by looking at the min and max values of each column in relation to the mean. Spend a bit of time looking through this chart to begin understanding the spread of the data."
      ]
    },
    {
      "cell_type": "markdown",
      "metadata": {
        "id": "722Jrtw75-Mc"
      },
      "source": [
        "### Simple Data Visualizations"
      ]
    },
    {
      "cell_type": "code",
      "metadata": {
        "colab": {
          "base_uri": "https://localhost:8080/",
          "height": 553
        },
        "id": "0hfr3ba1xOa8",
        "outputId": "1acbdcbb-c803-4866-f8ca-e79422a3e343"
      },
      "source": [
        "# plot a histogram to better visualize the range and spread of the numerical features\n",
        "iris_dataset.hist(bins=10, figsize=(12,9))\n",
        "plt.show()"
      ],
      "execution_count": 17,
      "outputs": [
        {
          "output_type": "display_data",
          "data": {
            "image/png": "[encoded data removed]",
            "text/plain": [
              "<Figure size 864x648 with 6 Axes>"
            ]
          },
          "metadata": {
            "tags": [],
            "needs_background": "light"
          }
        }
      ]
    },
    {
      "cell_type": "code",
      "metadata": {
        "id": "Jm1XskJE0DhR"
      },
      "source": [
        "# visualize using plot how length and width of sepals and petals varies for each species\n",
        "def visualize_data(x_data, y_data):\n",
        "  sns.FacetGrid(data=iris_dataset, hue='Species', height=5).map(plt.scatter, x_data, y_data).add_legend()"
      ],
      "execution_count": 18,
      "outputs": []
    },
    {
      "cell_type": "code",
      "metadata": {
        "colab": {
          "base_uri": "https://localhost:8080/",
          "height": 369
        },
        "id": "eF8VuGLe1jbg",
        "outputId": "2b91aba5-4eab-49ed-acbb-c133ef5b468d"
      },
      "source": [
        "# check for sepal length and width\n",
        "visualize_data('SepalLengthCm', 'SepalWidthCm')"
      ],
      "execution_count": 20,
      "outputs": [
        {
          "output_type": "display_data",
          "data": {
            "image/png": "[encoded data removed]",
            "text/plain": [
              "<Figure size 463.25x360 with 1 Axes>"
            ]
          },
          "metadata": {
            "tags": [],
            "needs_background": "light"
          }
        }
      ]
    },
    {
      "cell_type": "markdown",
      "metadata": {
        "id": "hg3y1sL-6YSa"
      },
      "source": [
        "**_Observations:_**\n",
        "- Virginica and versica look to be relatively similar in sepal size, but setosa has created its own cluster to the left."
      ]
    },
    {
      "cell_type": "code",
      "metadata": {
        "colab": {
          "base_uri": "https://localhost:8080/",
          "height": 369
        },
        "id": "hjhvbhCH6jWo",
        "outputId": "8f9cd3e7-d1c2-4aeb-8638-7dca87d83c74"
      },
      "source": [
        "# check for Petal length and width\n",
        "visualize_data('PetalLengthCm', 'PetalWidthCm')"
      ],
      "execution_count": 21,
      "outputs": [
        {
          "output_type": "display_data",
          "data": {
            "image/png": "[encoded data removed]",
            "text/plain": [
              "<Figure size 463.25x360 with 1 Axes>"
            ]
          },
          "metadata": {
            "tags": [],
            "needs_background": "light"
          }
        }
      ]
    },
    {
      "cell_type": "markdown",
      "metadata": {
        "id": "Zy-j-eUP6lNm"
      },
      "source": [
        "**_Observations:_**\n",
        "- The differences are more prominent in the petal width and length than in sepal width and length\n",
        "- Iris-setosa seems to be the smallest flower of the three"
      ]
    },
    {
      "cell_type": "markdown",
      "metadata": {
        "id": "tR76dFyL7q2u"
      },
      "source": [
        "#### Correlations\n",
        "The higher the number is, the greater the correlation between the two elements. A high positive correlation indicates that the two elements have a positive linear relationship (as one increases the other also increases), and a low negative correlation indicates a negative linear relationship (as one increases the other decreases)."
      ]
    },
    {
      "cell_type": "code",
      "metadata": {
        "colab": {
          "base_uri": "https://localhost:8080/",
          "height": 355
        },
        "id": "x2U-KYht69-k",
        "outputId": "bf292d5d-5122-495b-dc23-579673e809ff"
      },
      "source": [
        "# correlations between features\n",
        "sns.heatmap(data=iris_dataset.corr(), annot=True, cmap='Blues')"
      ],
      "execution_count": 23,
      "outputs": [
        {
          "output_type": "execute_result",
          "data": {
            "text/plain": [
              "<matplotlib.axes._subplots.AxesSubplot at 0x7fca45edea90>"
            ]
          },
          "metadata": {
            "tags": []
          },
          "execution_count": 23
        },
        {
          "output_type": "display_data",
          "data": {
            "image/png": "[encoded data removed]",
            "text/plain": [
              "<Figure size 432x288 with 2 Axes>"
            ]
          },
          "metadata": {
            "tags": [],
            "needs_background": "light"
          }
        }
      ]
    },
    {
      "cell_type": "markdown",
      "metadata": {
        "id": "Ii5jZHSO7W8W"
      },
      "source": [
        "**_Observations:_**\n",
        "- Petal width and petal length is highly correlated"
      ]
    },
    {
      "cell_type": "markdown",
      "metadata": {
        "id": "hhtRq8AJ2vO4"
      },
      "source": [
        "## Data Preparation\n",
        "\n",
        "In this step, we will clean our dataset so that unwanted rows are dropped, missing values (if any) are added, do feature scaling (if values vary greatly in range), ...\n",
        "\n",
        "<br>\n",
        "\n",
        "**Data preparation steps for the iris dataset:**\n",
        "- drop the column \"Id\" since this provides no useful information in predicting the type of iris. \n",
        "- split the dataset into features (X) and labels (y)\n",
        "- encode the values in column \"Species\" since this is now a categorical variable and most machine learning algorithms expect numerical values\n",
        "- split into train and test sets"
      ]
    },
    {
      "cell_type": "markdown",
      "metadata": {
        "id": "6s8Jk4GP9rUr"
      },
      "source": [
        "### Drop Unwanted Columns"
      ]
    },
    {
      "cell_type": "code",
      "metadata": {
        "colab": {
          "base_uri": "https://localhost:8080/",
          "height": 201
        },
        "id": "xRNIYcfS4GF8",
        "outputId": "2389ec59-75c5-471e-ed60-ab132893934b"
      },
      "source": [
        "# drop the Id column since this does not provide any useful information\n",
        "iris_dataset = iris_dataset.drop(labels=['Id'], axis=1)\n",
        "\n",
        "# checkout the dataset after dropping the column\n",
        "iris_dataset.head()"
      ],
      "execution_count": 24,
      "outputs": [
        {
          "output_type": "execute_result",
          "data": {
            "text/html": [
              "<div>\n",
              "<style scoped>\n",
              "    .dataframe tbody tr th:only-of-type {\n",
              "        vertical-align: middle;\n",
              "    }\n",
              "\n",
              "    .dataframe tbody tr th {\n",
              "        vertical-align: top;\n",
              "    }\n",
              "\n",
              "    .dataframe thead th {\n",
              "        text-align: right;\n",
              "    }\n",
              "</style>\n",
              "<table border=\"1\" class=\"dataframe\">\n",
              "  <thead>\n",
              "    <tr style=\"text-align: right;\">\n",
              "      <th></th>\n",
              "      <th>SepalLengthCm</th>\n",
              "      <th>SepalWidthCm</th>\n",
              "      <th>PetalLengthCm</th>\n",
              "      <th>PetalWidthCm</th>\n",
              "      <th>Species</th>\n",
              "    </tr>\n",
              "  </thead>\n",
              "  <tbody>\n",
              "    <tr>\n",
              "      <th>0</th>\n",
              "      <td>5.1</td>\n",
              "      <td>3.5</td>\n",
              "      <td>1.4</td>\n",
              "      <td>0.2</td>\n",
              "      <td>Iris-setosa</td>\n",
              "    </tr>\n",
              "    <tr>\n",
              "      <th>1</th>\n",
              "      <td>4.9</td>\n",
              "      <td>3.0</td>\n",
              "      <td>1.4</td>\n",
              "      <td>0.2</td>\n",
              "      <td>Iris-setosa</td>\n",
              "    </tr>\n",
              "    <tr>\n",
              "      <th>2</th>\n",
              "      <td>4.7</td>\n",
              "      <td>3.2</td>\n",
              "      <td>1.3</td>\n",
              "      <td>0.2</td>\n",
              "      <td>Iris-setosa</td>\n",
              "    </tr>\n",
              "    <tr>\n",
              "      <th>3</th>\n",
              "      <td>4.6</td>\n",
              "      <td>3.1</td>\n",
              "      <td>1.5</td>\n",
              "      <td>0.2</td>\n",
              "      <td>Iris-setosa</td>\n",
              "    </tr>\n",
              "    <tr>\n",
              "      <th>4</th>\n",
              "      <td>5.0</td>\n",
              "      <td>3.6</td>\n",
              "      <td>1.4</td>\n",
              "      <td>0.2</td>\n",
              "      <td>Iris-setosa</td>\n",
              "    </tr>\n",
              "  </tbody>\n",
              "</table>\n",
              "</div>"
            ],
            "text/plain": [
              "   SepalLengthCm  SepalWidthCm  PetalLengthCm  PetalWidthCm      Species\n",
              "0            5.1           3.5            1.4           0.2  Iris-setosa\n",
              "1            4.9           3.0            1.4           0.2  Iris-setosa\n",
              "2            4.7           3.2            1.3           0.2  Iris-setosa\n",
              "3            4.6           3.1            1.5           0.2  Iris-setosa\n",
              "4            5.0           3.6            1.4           0.2  Iris-setosa"
            ]
          },
          "metadata": {
            "tags": []
          },
          "execution_count": 24
        }
      ]
    },
    {
      "cell_type": "markdown",
      "metadata": {
        "id": "Wl1iTgro7dDq"
      },
      "source": [
        "### Split Into Features and Labels"
      ]
    },
    {
      "cell_type": "code",
      "metadata": {
        "id": "gT9nl7sT7h3J"
      },
      "source": [
        "iris_features = iris_dataset.iloc[:, :-1]\n",
        "iris_label = iris_dataset[['Species']]"
      ],
      "execution_count": 25,
      "outputs": []
    },
    {
      "cell_type": "markdown",
      "metadata": {
        "id": "coQ4Q2tm6WKp"
      },
      "source": [
        "### Replace Categorical Attributes With Numerical Values"
      ]
    },
    {
      "cell_type": "code",
      "metadata": {
        "id": "hJVt8pSX513u"
      },
      "source": [
        "# create a dictionary of the values\n",
        "species_lookup = {\"Species\": {\"Iris-versicolor\": 0, \"Iris-setosa\": 1, \"Iris-virginica\": 2}}\n",
        "\n",
        "# convert the columns to numbers\n",
        "iris_label_enc = iris_label.replace(species_lookup)"
      ],
      "execution_count": 26,
      "outputs": []
    },
    {
      "cell_type": "markdown",
      "metadata": {
        "id": "P2QN4R-N8kp5"
      },
      "source": [
        "### Split Into Train And Test Sets"
      ]
    },
    {
      "cell_type": "code",
      "metadata": {
        "id": "TTndSdx18B5i"
      },
      "source": [
        "# import necessary library\n",
        "from sklearn.model_selection import train_test_split"
      ],
      "execution_count": 27,
      "outputs": []
    },
    {
      "cell_type": "code",
      "metadata": {
        "colab": {
          "base_uri": "https://localhost:8080/"
        },
        "id": "jYuRfCan8q6M",
        "outputId": "ea81d332-ce6f-4163-dec7-f7965c2ffd94"
      },
      "source": [
        "# create the train and test sets\n",
        "X_train, X_test, y_train, y_test = train_test_split(iris_features, iris_label_enc, test_size=0.2, random_state=42)\n",
        "\n",
        "# check out the shape of the resulting arrays\n",
        "X_train.shape, X_test.shape, y_train.shape, y_test.shape"
      ],
      "execution_count": 28,
      "outputs": [
        {
          "output_type": "execute_result",
          "data": {
            "text/plain": [
              "((120, 4), (30, 4), (120, 1), (30, 1))"
            ]
          },
          "metadata": {
            "tags": []
          },
          "execution_count": 28
        }
      ]
    },
    {
      "cell_type": "code",
      "metadata": {
        "colab": {
          "base_uri": "https://localhost:8080/"
        },
        "id": "V-Q4SijCEOHH",
        "outputId": "a8c97b43-2181-4b2f-e693-215366d282c2"
      },
      "source": [
        "# flatten the arrays y_train and y_test\n",
        "y_train = np.ravel(y_train)\n",
        "y_test = np.ravel(y_test)\n",
        "\n",
        "# check out the shapes\n",
        "y_train.shape, y_test.shape"
      ],
      "execution_count": 37,
      "outputs": [
        {
          "output_type": "execute_result",
          "data": {
            "text/plain": [
              "((120,), (30,))"
            ]
          },
          "metadata": {
            "tags": []
          },
          "execution_count": 37
        }
      ]
    },
    {
      "cell_type": "markdown",
      "metadata": {
        "id": "1XHdlBZJ-eWe"
      },
      "source": [
        "## Model Comparisons\n",
        "\n",
        "The question of the hour - _which machine learning algorithm would best fit the iris dataset we have?_\n",
        "\n",
        "Of course, there are several theoretical considerations we can take into account. \n",
        "- If the features show strong linear relationships to the dependent variable (target), a linear model is likely to work best. \n",
        "- If the relationships are non-linear, then maybe an SVM or instance-based classifier like K-Nearest Neighbors would be best. \n",
        "- If explainability in crucial, a tree based model may be the way to go. \n",
        "\n",
        "And so on...\n",
        "\n",
        "Unfortunately, there is no clear answer on which model would be the best. Thus, for the purpose of finding the optimal model, we can compare the desired models with each other and choose the one that gives the best result."
      ]
    },
    {
      "cell_type": "code",
      "metadata": {
        "id": "KF255jHbDtu8"
      },
      "source": [
        "# import the necessary models from sklearn\n",
        "from sklearn.linear_model import LogisticRegression\n",
        "from sklearn.neighbors import KNeighborsClassifier\n",
        "from sklearn.svm import SVC\n",
        "from sklearn.ensemble import RandomForestClassifier\n",
        "from sklearn.naive_bayes import GaussianNB\n",
        "from xgboost import XGBClassifier\n",
        "\n",
        "# import additional classes\n",
        "from sklearn import model_selection\n",
        "from sklearn.utils import class_weight\n",
        "from sklearn.metrics import classification_report\n",
        "from sklearn.metrics import confusion_matrix, accuracy_score"
      ],
      "execution_count": 94,
      "outputs": []
    },
    {
      "cell_type": "code",
      "metadata": {
        "id": "x956peRAGjNF"
      },
      "source": [
        "def run_models(X_train: pd.DataFrame, y_train: pd.DataFrame, X_test: pd.DataFrame, y_test: pd.DataFrame) -> pd.DataFrame:\n",
        "  '''\n",
        "  Lightweight function to test and compare multiple models on the same dataset\n",
        "\n",
        "  Params:\n",
        "    X_train: training split\n",
        "    y_train: training target vector\n",
        "    X_test: test split\n",
        "    y_test: test target vector\n",
        "\n",
        "  Returns:\n",
        "    DataFrame of predictions\n",
        "  '''\n",
        "\n",
        "\n",
        "  models = [\n",
        "            ('LogReg', LogisticRegression()),     \n",
        "            ('RForest', RandomForestClassifier()),\n",
        "            ('KNN', KNeighborsClassifier()),\n",
        "            ('SVM', SVC()),                       \n",
        "            ('GaussNB', GaussianNB()),            \n",
        "            ('XGB', XGBClassifier())              \n",
        "            ]\n",
        "\n",
        "  scoring = ['accuracy', 'precision_weighted', 'recall_weighted', 'f1_weighted']\n",
        "  target_names = [\"Iris-versicolor\", \"Iris-setosa\", \"Iris-virginica\"]\n",
        "\n",
        "  model_comparisons = []\n",
        "\n",
        "  print('CLASSIFICATION REPORT: \\n')\n",
        "\n",
        "  for name, model in models:\n",
        "    # Split dataset into k consecutive folds (without shuffling by default).\n",
        "    # Each fold is then used once as a validation while the k - 1 remaining folds form the training set.\n",
        "    kfold = model_selection.KFold(n_splits=5, shuffle=True, random_state=42)\n",
        "\n",
        "    # Evaluate metric(s) by cross-validation and also record fit/score times.\n",
        "    cv_results = model_selection.cross_validate(estimator=model, X=X_train, y=y_train, cv=kfold, scoring=scoring)\n",
        "\n",
        "    # train the model and get the predictions on the train set\n",
        "    # NOTE: the models are not shown the test set until after the model is finalized and trained on the training data\n",
        "    classifier = model.fit(X_train, y_train)\n",
        "    y_pred = classifier.predict(X_train)\n",
        "    \n",
        "    \n",
        "    # Build a text report showing the main classification metrics\n",
        "    print('\\n',name)\n",
        "    print(classification_report(y_true=y_train, y_pred=y_pred, target_names=target_names))\n",
        "\n",
        "    this_df = pd.DataFrame(cv_results)\n",
        "    this_df['model'] = name\n",
        "\n",
        "    model_comparisons.append(this_df)\n",
        "\n",
        "  final_comparison = pd.concat(model_comparisons, ignore_index=True)\n",
        "  \n",
        "  # bring the column 'model' to the first\n",
        "  first_col = final_comparison.pop('model')\n",
        "  finals_comparison = final_comparison.insert(0, 'model', first_col)\n",
        "\n",
        "  return final_comparison"
      ],
      "execution_count": 90,
      "outputs": []
    },
    {
      "cell_type": "code",
      "metadata": {
        "colab": {
          "base_uri": "https://localhost:8080/"
        },
        "id": "v3Efa1mNIpsc",
        "outputId": "794ddcbd-3ce2-4652-9e8b-6ff5fcceb47a"
      },
      "source": [
        "# get the comparisons\n",
        "model_comparisons_df = run_models(X_train, y_train, X_test, y_test)"
      ],
      "execution_count": 91,
      "outputs": [
        {
          "output_type": "stream",
          "text": [
            "CLASSIFICATION REPORT: \n",
            "\n",
            "\n",
            " LogReg\n",
            "                 precision    recall  f1-score   support\n",
            "\n",
            "Iris-versicolor       1.00      0.93      0.96        41\n",
            "    Iris-setosa       1.00      1.00      1.00        40\n",
            " Iris-virginica       0.93      1.00      0.96        39\n",
            "\n",
            "       accuracy                           0.97       120\n",
            "      macro avg       0.98      0.98      0.97       120\n",
            "   weighted avg       0.98      0.97      0.97       120\n",
            "\n",
            "\n",
            " RForest\n",
            "                 precision    recall  f1-score   support\n",
            "\n",
            "Iris-versicolor       1.00      1.00      1.00        41\n",
            "    Iris-setosa       1.00      1.00      1.00        40\n",
            " Iris-virginica       1.00      1.00      1.00        39\n",
            "\n",
            "       accuracy                           1.00       120\n",
            "      macro avg       1.00      1.00      1.00       120\n",
            "   weighted avg       1.00      1.00      1.00       120\n",
            "\n",
            "\n",
            " KNN\n",
            "                 precision    recall  f1-score   support\n",
            "\n",
            "Iris-versicolor       0.97      0.93      0.95        41\n",
            "    Iris-setosa       1.00      1.00      1.00        40\n",
            " Iris-virginica       0.93      0.97      0.95        39\n",
            "\n",
            "       accuracy                           0.97       120\n",
            "      macro avg       0.97      0.97      0.97       120\n",
            "   weighted avg       0.97      0.97      0.97       120\n",
            "\n",
            "\n",
            " SVM\n",
            "                 precision    recall  f1-score   support\n",
            "\n",
            "Iris-versicolor       0.97      0.95      0.96        41\n",
            "    Iris-setosa       1.00      1.00      1.00        40\n",
            " Iris-virginica       0.95      0.97      0.96        39\n",
            "\n",
            "       accuracy                           0.97       120\n",
            "      macro avg       0.97      0.98      0.97       120\n",
            "   weighted avg       0.98      0.97      0.98       120\n",
            "\n",
            "\n",
            " GaussNB\n",
            "                 precision    recall  f1-score   support\n",
            "\n",
            "Iris-versicolor       0.93      0.93      0.93        41\n",
            "    Iris-setosa       1.00      1.00      1.00        40\n",
            " Iris-virginica       0.92      0.92      0.92        39\n",
            "\n",
            "       accuracy                           0.95       120\n",
            "      macro avg       0.95      0.95      0.95       120\n",
            "   weighted avg       0.95      0.95      0.95       120\n",
            "\n",
            "\n",
            " XGB\n",
            "                 precision    recall  f1-score   support\n",
            "\n",
            "Iris-versicolor       1.00      1.00      1.00        41\n",
            "    Iris-setosa       1.00      1.00      1.00        40\n",
            " Iris-virginica       1.00      1.00      1.00        39\n",
            "\n",
            "       accuracy                           1.00       120\n",
            "      macro avg       1.00      1.00      1.00       120\n",
            "   weighted avg       1.00      1.00      1.00       120\n",
            "\n"
          ],
          "name": "stdout"
        }
      ]
    },
    {
      "cell_type": "code",
      "metadata": {
        "colab": {
          "base_uri": "https://localhost:8080/",
          "height": 999
        },
        "id": "Zp-KbmnhJCNt",
        "outputId": "8e91ac30-5bf1-4818-95aa-d1717bca8b81"
      },
      "source": [
        "print('MODEL COMPARISONS BASED ON THE METRICS PROVIDED: \\n')\n",
        "model_comparisons_df"
      ],
      "execution_count": 92,
      "outputs": [
        {
          "output_type": "stream",
          "text": [
            "MODEL COMPARISONS BASED ON THE METRICS PROVIDED: \n",
            "\n"
          ],
          "name": "stdout"
        },
        {
          "output_type": "execute_result",
          "data": {
            "text/html": [
              "<div>\n",
              "<style scoped>\n",
              "    .dataframe tbody tr th:only-of-type {\n",
              "        vertical-align: middle;\n",
              "    }\n",
              "\n",
              "    .dataframe tbody tr th {\n",
              "        vertical-align: top;\n",
              "    }\n",
              "\n",
              "    .dataframe thead th {\n",
              "        text-align: right;\n",
              "    }\n",
              "</style>\n",
              "<table border=\"1\" class=\"dataframe\">\n",
              "  <thead>\n",
              "    <tr style=\"text-align: right;\">\n",
              "      <th></th>\n",
              "      <th>model</th>\n",
              "      <th>fit_time</th>\n",
              "      <th>score_time</th>\n",
              "      <th>test_accuracy</th>\n",
              "      <th>test_precision_weighted</th>\n",
              "      <th>test_recall_weighted</th>\n",
              "      <th>test_f1_weighted</th>\n",
              "    </tr>\n",
              "  </thead>\n",
              "  <tbody>\n",
              "    <tr>\n",
              "      <th>0</th>\n",
              "      <td>LogReg</td>\n",
              "      <td>0.033801</td>\n",
              "      <td>0.002941</td>\n",
              "      <td>0.958333</td>\n",
              "      <td>0.965278</td>\n",
              "      <td>0.958333</td>\n",
              "      <td>0.959235</td>\n",
              "    </tr>\n",
              "    <tr>\n",
              "      <th>1</th>\n",
              "      <td>LogReg</td>\n",
              "      <td>0.028501</td>\n",
              "      <td>0.002927</td>\n",
              "      <td>1.000000</td>\n",
              "      <td>1.000000</td>\n",
              "      <td>1.000000</td>\n",
              "      <td>1.000000</td>\n",
              "    </tr>\n",
              "    <tr>\n",
              "      <th>2</th>\n",
              "      <td>LogReg</td>\n",
              "      <td>0.021409</td>\n",
              "      <td>0.002904</td>\n",
              "      <td>0.916667</td>\n",
              "      <td>0.944444</td>\n",
              "      <td>0.916667</td>\n",
              "      <td>0.919048</td>\n",
              "    </tr>\n",
              "    <tr>\n",
              "      <th>3</th>\n",
              "      <td>LogReg</td>\n",
              "      <td>0.022165</td>\n",
              "      <td>0.002827</td>\n",
              "      <td>0.875000</td>\n",
              "      <td>0.877381</td>\n",
              "      <td>0.875000</td>\n",
              "      <td>0.874123</td>\n",
              "    </tr>\n",
              "    <tr>\n",
              "      <th>4</th>\n",
              "      <td>LogReg</td>\n",
              "      <td>0.025666</td>\n",
              "      <td>0.002911</td>\n",
              "      <td>1.000000</td>\n",
              "      <td>1.000000</td>\n",
              "      <td>1.000000</td>\n",
              "      <td>1.000000</td>\n",
              "    </tr>\n",
              "    <tr>\n",
              "      <th>5</th>\n",
              "      <td>RForest</td>\n",
              "      <td>0.140764</td>\n",
              "      <td>0.010662</td>\n",
              "      <td>0.916667</td>\n",
              "      <td>0.940476</td>\n",
              "      <td>0.916667</td>\n",
              "      <td>0.919444</td>\n",
              "    </tr>\n",
              "    <tr>\n",
              "      <th>6</th>\n",
              "      <td>RForest</td>\n",
              "      <td>0.135106</td>\n",
              "      <td>0.010629</td>\n",
              "      <td>0.958333</td>\n",
              "      <td>0.962963</td>\n",
              "      <td>0.958333</td>\n",
              "      <td>0.958462</td>\n",
              "    </tr>\n",
              "    <tr>\n",
              "      <th>7</th>\n",
              "      <td>RForest</td>\n",
              "      <td>0.148307</td>\n",
              "      <td>0.010626</td>\n",
              "      <td>0.916667</td>\n",
              "      <td>0.944444</td>\n",
              "      <td>0.916667</td>\n",
              "      <td>0.919048</td>\n",
              "    </tr>\n",
              "    <tr>\n",
              "      <th>8</th>\n",
              "      <td>RForest</td>\n",
              "      <td>0.150510</td>\n",
              "      <td>0.011301</td>\n",
              "      <td>0.833333</td>\n",
              "      <td>0.833333</td>\n",
              "      <td>0.833333</td>\n",
              "      <td>0.833333</td>\n",
              "    </tr>\n",
              "    <tr>\n",
              "      <th>9</th>\n",
              "      <td>RForest</td>\n",
              "      <td>0.139584</td>\n",
              "      <td>0.011256</td>\n",
              "      <td>1.000000</td>\n",
              "      <td>1.000000</td>\n",
              "      <td>1.000000</td>\n",
              "      <td>1.000000</td>\n",
              "    </tr>\n",
              "    <tr>\n",
              "      <th>10</th>\n",
              "      <td>KNN</td>\n",
              "      <td>0.001731</td>\n",
              "      <td>0.005802</td>\n",
              "      <td>0.916667</td>\n",
              "      <td>0.940476</td>\n",
              "      <td>0.916667</td>\n",
              "      <td>0.919444</td>\n",
              "    </tr>\n",
              "    <tr>\n",
              "      <th>11</th>\n",
              "      <td>KNN</td>\n",
              "      <td>0.001551</td>\n",
              "      <td>0.004280</td>\n",
              "      <td>0.958333</td>\n",
              "      <td>0.962963</td>\n",
              "      <td>0.958333</td>\n",
              "      <td>0.958462</td>\n",
              "    </tr>\n",
              "    <tr>\n",
              "      <th>12</th>\n",
              "      <td>KNN</td>\n",
              "      <td>0.001479</td>\n",
              "      <td>0.004094</td>\n",
              "      <td>0.958333</td>\n",
              "      <td>0.966667</td>\n",
              "      <td>0.958333</td>\n",
              "      <td>0.959259</td>\n",
              "    </tr>\n",
              "    <tr>\n",
              "      <th>13</th>\n",
              "      <td>KNN</td>\n",
              "      <td>0.001776</td>\n",
              "      <td>0.004657</td>\n",
              "      <td>0.916667</td>\n",
              "      <td>0.916667</td>\n",
              "      <td>0.916667</td>\n",
              "      <td>0.916667</td>\n",
              "    </tr>\n",
              "    <tr>\n",
              "      <th>14</th>\n",
              "      <td>KNN</td>\n",
              "      <td>0.001454</td>\n",
              "      <td>0.004048</td>\n",
              "      <td>1.000000</td>\n",
              "      <td>1.000000</td>\n",
              "      <td>1.000000</td>\n",
              "      <td>1.000000</td>\n",
              "    </tr>\n",
              "    <tr>\n",
              "      <th>15</th>\n",
              "      <td>SVM</td>\n",
              "      <td>0.001683</td>\n",
              "      <td>0.002758</td>\n",
              "      <td>0.916667</td>\n",
              "      <td>0.940476</td>\n",
              "      <td>0.916667</td>\n",
              "      <td>0.919444</td>\n",
              "    </tr>\n",
              "    <tr>\n",
              "      <th>16</th>\n",
              "      <td>SVM</td>\n",
              "      <td>0.001634</td>\n",
              "      <td>0.002746</td>\n",
              "      <td>1.000000</td>\n",
              "      <td>1.000000</td>\n",
              "      <td>1.000000</td>\n",
              "      <td>1.000000</td>\n",
              "    </tr>\n",
              "    <tr>\n",
              "      <th>17</th>\n",
              "      <td>SVM</td>\n",
              "      <td>0.001640</td>\n",
              "      <td>0.002713</td>\n",
              "      <td>1.000000</td>\n",
              "      <td>1.000000</td>\n",
              "      <td>1.000000</td>\n",
              "      <td>1.000000</td>\n",
              "    </tr>\n",
              "    <tr>\n",
              "      <th>18</th>\n",
              "      <td>SVM</td>\n",
              "      <td>0.001588</td>\n",
              "      <td>0.003277</td>\n",
              "      <td>0.875000</td>\n",
              "      <td>0.877381</td>\n",
              "      <td>0.875000</td>\n",
              "      <td>0.874123</td>\n",
              "    </tr>\n",
              "    <tr>\n",
              "      <th>19</th>\n",
              "      <td>SVM</td>\n",
              "      <td>0.001606</td>\n",
              "      <td>0.002726</td>\n",
              "      <td>1.000000</td>\n",
              "      <td>1.000000</td>\n",
              "      <td>1.000000</td>\n",
              "      <td>1.000000</td>\n",
              "    </tr>\n",
              "    <tr>\n",
              "      <th>20</th>\n",
              "      <td>GaussNB</td>\n",
              "      <td>0.001543</td>\n",
              "      <td>0.002686</td>\n",
              "      <td>0.958333</td>\n",
              "      <td>0.965278</td>\n",
              "      <td>0.958333</td>\n",
              "      <td>0.959235</td>\n",
              "    </tr>\n",
              "    <tr>\n",
              "      <th>21</th>\n",
              "      <td>GaussNB</td>\n",
              "      <td>0.001510</td>\n",
              "      <td>0.002717</td>\n",
              "      <td>1.000000</td>\n",
              "      <td>1.000000</td>\n",
              "      <td>1.000000</td>\n",
              "      <td>1.000000</td>\n",
              "    </tr>\n",
              "    <tr>\n",
              "      <th>22</th>\n",
              "      <td>GaussNB</td>\n",
              "      <td>0.002260</td>\n",
              "      <td>0.003761</td>\n",
              "      <td>0.916667</td>\n",
              "      <td>0.944444</td>\n",
              "      <td>0.916667</td>\n",
              "      <td>0.919048</td>\n",
              "    </tr>\n",
              "    <tr>\n",
              "      <th>23</th>\n",
              "      <td>GaussNB</td>\n",
              "      <td>0.002753</td>\n",
              "      <td>0.004119</td>\n",
              "      <td>0.833333</td>\n",
              "      <td>0.842172</td>\n",
              "      <td>0.833333</td>\n",
              "      <td>0.829762</td>\n",
              "    </tr>\n",
              "    <tr>\n",
              "      <th>24</th>\n",
              "      <td>GaussNB</td>\n",
              "      <td>0.001635</td>\n",
              "      <td>0.002837</td>\n",
              "      <td>1.000000</td>\n",
              "      <td>1.000000</td>\n",
              "      <td>1.000000</td>\n",
              "      <td>1.000000</td>\n",
              "    </tr>\n",
              "    <tr>\n",
              "      <th>25</th>\n",
              "      <td>XGB</td>\n",
              "      <td>0.020684</td>\n",
              "      <td>0.003223</td>\n",
              "      <td>0.916667</td>\n",
              "      <td>0.940476</td>\n",
              "      <td>0.916667</td>\n",
              "      <td>0.919444</td>\n",
              "    </tr>\n",
              "    <tr>\n",
              "      <th>26</th>\n",
              "      <td>XGB</td>\n",
              "      <td>0.020511</td>\n",
              "      <td>0.003347</td>\n",
              "      <td>0.958333</td>\n",
              "      <td>0.962963</td>\n",
              "      <td>0.958333</td>\n",
              "      <td>0.958462</td>\n",
              "    </tr>\n",
              "    <tr>\n",
              "      <th>27</th>\n",
              "      <td>XGB</td>\n",
              "      <td>0.020172</td>\n",
              "      <td>0.003201</td>\n",
              "      <td>0.916667</td>\n",
              "      <td>0.944444</td>\n",
              "      <td>0.916667</td>\n",
              "      <td>0.919048</td>\n",
              "    </tr>\n",
              "    <tr>\n",
              "      <th>28</th>\n",
              "      <td>XGB</td>\n",
              "      <td>0.023655</td>\n",
              "      <td>0.003335</td>\n",
              "      <td>0.875000</td>\n",
              "      <td>0.877381</td>\n",
              "      <td>0.875000</td>\n",
              "      <td>0.874123</td>\n",
              "    </tr>\n",
              "    <tr>\n",
              "      <th>29</th>\n",
              "      <td>XGB</td>\n",
              "      <td>0.021089</td>\n",
              "      <td>0.003258</td>\n",
              "      <td>1.000000</td>\n",
              "      <td>1.000000</td>\n",
              "      <td>1.000000</td>\n",
              "      <td>1.000000</td>\n",
              "    </tr>\n",
              "  </tbody>\n",
              "</table>\n",
              "</div>"
            ],
            "text/plain": [
              "      model  fit_time  ...  test_recall_weighted  test_f1_weighted\n",
              "0    LogReg  0.033801  ...              0.958333          0.959235\n",
              "1    LogReg  0.028501  ...              1.000000          1.000000\n",
              "2    LogReg  0.021409  ...              0.916667          0.919048\n",
              "3    LogReg  0.022165  ...              0.875000          0.874123\n",
              "4    LogReg  0.025666  ...              1.000000          1.000000\n",
              "5   RForest  0.140764  ...              0.916667          0.919444\n",
              "6   RForest  0.135106  ...              0.958333          0.958462\n",
              "7   RForest  0.148307  ...              0.916667          0.919048\n",
              "8   RForest  0.150510  ...              0.833333          0.833333\n",
              "9   RForest  0.139584  ...              1.000000          1.000000\n",
              "10      KNN  0.001731  ...              0.916667          0.919444\n",
              "11      KNN  0.001551  ...              0.958333          0.958462\n",
              "12      KNN  0.001479  ...              0.958333          0.959259\n",
              "13      KNN  0.001776  ...              0.916667          0.916667\n",
              "14      KNN  0.001454  ...              1.000000          1.000000\n",
              "15      SVM  0.001683  ...              0.916667          0.919444\n",
              "16      SVM  0.001634  ...              1.000000          1.000000\n",
              "17      SVM  0.001640  ...              1.000000          1.000000\n",
              "18      SVM  0.001588  ...              0.875000          0.874123\n",
              "19      SVM  0.001606  ...              1.000000          1.000000\n",
              "20  GaussNB  0.001543  ...              0.958333          0.959235\n",
              "21  GaussNB  0.001510  ...              1.000000          1.000000\n",
              "22  GaussNB  0.002260  ...              0.916667          0.919048\n",
              "23  GaussNB  0.002753  ...              0.833333          0.829762\n",
              "24  GaussNB  0.001635  ...              1.000000          1.000000\n",
              "25      XGB  0.020684  ...              0.916667          0.919444\n",
              "26      XGB  0.020511  ...              0.958333          0.958462\n",
              "27      XGB  0.020172  ...              0.916667          0.919048\n",
              "28      XGB  0.023655  ...              0.875000          0.874123\n",
              "29      XGB  0.021089  ...              1.000000          1.000000\n",
              "\n",
              "[30 rows x 7 columns]"
            ]
          },
          "metadata": {
            "tags": []
          },
          "execution_count": 92
        }
      ]
    },
    {
      "cell_type": "markdown",
      "metadata": {
        "id": "GkTQ2YQPNles"
      },
      "source": [
        "**_Observations:_**\n",
        "- Logistic Regression and KNN gives accuracy around 97% whereas the other algorithms give 100% accuracy (data might be overfit)\n",
        "- Most models gave an F1 score of 1 (very confident) to Iris-setosa whereas the other 2 species got a score around .97. This probably might be because as seen in the scatter plot, the values of Iris-setosa was clearly apart from Iris-virginica and Iris-versicolor.\n"
      ]
    },
    {
      "cell_type": "markdown",
      "metadata": {
        "id": "snTKuit29Zt2"
      },
      "source": [
        "## Select And Train The Model(s)\n",
        "\n",
        "We will select Logistic Regression and Random Forest and do further comparisons on these two models"
      ]
    },
    {
      "cell_type": "markdown",
      "metadata": {
        "id": "BNQ6Mhtv9dFd"
      },
      "source": [
        "### 1. Logistic Regression\n",
        "\n",
        "For more information, check out https://machinelearningmastery.com/logistic-regression-for-machine-learning/"
      ]
    },
    {
      "cell_type": "code",
      "metadata": {
        "colab": {
          "base_uri": "https://localhost:8080/"
        },
        "id": "WkGnZuVe9Fth",
        "outputId": "8d61b41d-e36a-41ed-b8a6-daec6af50b53"
      },
      "source": [
        "log_clf = LogisticRegression()\n",
        "\n",
        "# fit the model on the training data\n",
        "log_clf.fit(X=X_train, y=y_train)\n",
        "\n",
        "# get the prediction on train and test sets\n",
        "y_train_pred_log = log_clf.predict(X_train)\n",
        "y_test_pred_log = log_clf.predict(X_test)\n",
        "\n",
        "# get the accuracy on both the train and test sets\n",
        "y_train_acc = accuracy_score(y_train, y_train_pred_log)\n",
        "y_test_acc = accuracy_score(y_test, y_test_pred_log)\n",
        "\n",
        "print(\"Accuracy of predictions on the train data is %0.3f\" %y_train_acc)\n",
        "print(\"Accuracy of predictions on the test data is %0.3f\" %y_test_acc)"
      ],
      "execution_count": 100,
      "outputs": [
        {
          "output_type": "stream",
          "text": [
            "Accuracy of predictions on the train data is 0.975\n",
            "Accuracy of predictions on the test data is 1.000\n"
          ],
          "name": "stdout"
        }
      ]
    },
    {
      "cell_type": "code",
      "metadata": {
        "colab": {
          "base_uri": "https://localhost:8080/"
        },
        "id": "LnAsBp459v6K",
        "outputId": "d9467438-b9a4-4b1c-d59b-a1a05945d734"
      },
      "source": [
        "# get the confusion matrices\n",
        "def conf_matrix(y_true, y_pred, label):\n",
        "  print(\"Confusion matrix on the \", label, \" set\")\n",
        "  cm = confusion_matrix(y_true, y_pred)\n",
        "  print(cm, '\\n')\n",
        "\n",
        "# confusion matrix on train set\n",
        "conf_matrix(y_train, y_train_pred_log, \"train\")\n",
        "\n",
        "# confusion matrix on test set\n",
        "conf_matrix(y_test, y_test_pred_log, \"test\")"
      ],
      "execution_count": 101,
      "outputs": [
        {
          "output_type": "stream",
          "text": [
            "Confusion matrix on the  train  set\n",
            "[[38  0  3]\n",
            " [ 0 40  0]\n",
            " [ 0  0 39]] \n",
            "\n",
            "Confusion matrix on the  test  set\n",
            "[[ 9  0  0]\n",
            " [ 0 10  0]\n",
            " [ 0  0 11]] \n",
            "\n"
          ],
          "name": "stdout"
        }
      ]
    },
    {
      "cell_type": "markdown",
      "metadata": {
        "id": "YprXfsALLwZ5"
      },
      "source": [
        "### 2. Random Forest Classifier\n",
        "\n",
        "For more information, check out https://www.javatpoint.com/machine-learning-random-forest-algorithm"
      ]
    },
    {
      "cell_type": "code",
      "metadata": {
        "colab": {
          "base_uri": "https://localhost:8080/"
        },
        "id": "aFUEsqUGL1m0",
        "outputId": "f09a62a6-2ed1-419f-bd74-d5cefd946417"
      },
      "source": [
        "rforest_clf = RandomForestClassifier()\n",
        "\n",
        "# fit the model on the training data\n",
        "rforest_clf.fit(X_train, y_train)\n",
        "\n",
        "# get the predictions\n",
        "y_train_pred_rforest = rforest_clf.predict(X_train)\n",
        "y_test_pred_rforest = rforest_clf.predict(X_test)\n",
        "\n",
        "# get the accuracy on both the train and test sets\n",
        "y_train_acc = accuracy_score(y_train, y_train_pred_rforest)\n",
        "y_test_acc = accuracy_score(y_test, y_test_pred_rforest)\n",
        "\n",
        "print(\"Accuracy of predictions on the train data is %0.3f\" %y_train_acc)\n",
        "print(\"Accuracy of predictions on the test data is %0.3f\\n\" %y_test_acc)\n",
        "\n",
        "# confusion matrix on train set\n",
        "conf_matrix(y_train, y_train_pred_rforest, \"train\")\n",
        "# confusion matrix on test set\n",
        "conf_matrix(y_test, y_test_pred_rforest, \"test\")"
      ],
      "execution_count": 98,
      "outputs": [
        {
          "output_type": "stream",
          "text": [
            "Accuracy of predictions on the train data is 1.000\n",
            "Accuracy of predictions on the test data is 1.000\n",
            "\n",
            "Confusion matrix on the  train  set\n",
            "[[41  0  0]\n",
            " [ 0 40  0]\n",
            " [ 0  0 39]] \n",
            "\n",
            "Confusion matrix on the  test  set\n",
            "[[ 9  0  0]\n",
            " [ 0 10  0]\n",
            " [ 0  0 11]] \n",
            "\n"
          ],
          "name": "stdout"
        }
      ]
    },
    {
      "cell_type": "markdown",
      "metadata": {
        "id": "4MF9ohjRRWYn"
      },
      "source": [
        "**_Observations:_**\n",
        "- Both logistic regression and random forest classifier give a 100% accuracy on the test set. This might be because of the train-test split (120 and 30)\n",
        "- The random forest classifier performs better than logistic regression on the training set"
      ]
    },
    {
      "cell_type": "markdown",
      "metadata": {
        "id": "SIK-uqMGR8cO"
      },
      "source": [
        "#### Feature Importances After Fitting Random Forest Classifier"
      ]
    },
    {
      "cell_type": "code",
      "metadata": {
        "colab": {
          "base_uri": "https://localhost:8080/"
        },
        "id": "GLc-SGljF0Ql",
        "outputId": "615c5f32-72c8-421c-fe16-237b67bfd973"
      },
      "source": [
        "feature_names = iris_features.columns\n",
        "feature_importances = rforest_clf.feature_importances_\n",
        "\n",
        "for name, imp in zip(feature_names, feature_importances):\n",
        "  print(name, '\\t: ', imp)"
      ],
      "execution_count": 104,
      "outputs": [
        {
          "output_type": "stream",
          "text": [
            "SepalLengthCm \t:  0.08443449272321134\n",
            "SepalWidthCm \t:  0.035598342205813815\n",
            "PetalLengthCm \t:  0.44972996405684146\n",
            "PetalWidthCm \t:  0.43023720101413343\n"
          ],
          "name": "stdout"
        }
      ]
    },
    {
      "cell_type": "markdown",
      "metadata": {
        "id": "WjWvR8w9Sfy1"
      },
      "source": [
        "**_Observations:_**\n",
        "- The random forest classifier model gives the most importance to **petal length** and **petal width**\n",
        "- Sepal lengths and widths have comparatively very low importance in classifying the species"
      ]
    },
    {
      "cell_type": "code",
      "metadata": {
        "id": "qiRtqzCGSJLI"
      },
      "source": [
        ""
      ],
      "execution_count": null,
      "outputs": []
    }
  ]
}